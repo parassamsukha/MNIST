{
 "cells": [
  {
   "cell_type": "code",
   "execution_count": null,
   "id": "472a16d1",
   "metadata": {},
   "outputs": [],
   "source": [
    "import numpy as np # linear algebra\n",
    "import struct\n",
    "import os\n",
    "from array import array\n",
    "import matplotlib.pyplot as plt\n",
    "import torch\n",
    "import torch.nn as nn\n",
    "import torch.nn.functional as F\n",
    "import torch.optim as optim"
   ]
  },
  {
   "cell_type": "markdown",
   "id": "32ff122d",
   "metadata": {},
   "source": [
    "## Loading the data \n",
    "(Borrowed from kaggel - https://www.kaggle.com/code/hojjatk/read-mnist-dataset )\n",
    "### The output array is stacked. This allows to have one dimension of array to  ( namely the first) to indicate the batch number when loading the data"
   ]
  },
  {
   "cell_type": "code",
   "execution_count": null,
   "id": "fac5534b",
   "metadata": {},
   "outputs": [],
   "source": [
    "class MNISTloader():\n",
    "    def __init__(self, training_images_filepath,training_labels_filepath,\n",
    "                 test_images_filepath, test_labels_filepath):\n",
    "        self.training_images_filepath = training_images_filepath\n",
    "        self.training_labels_filepath = training_labels_filepath\n",
    "        self.test_images_filepath = test_images_filepath\n",
    "        self.test_labels_filepath = test_labels_filepath\n",
    "    def read_images_labels(self, images_filepath, labels_filepath):        \n",
    "        labels = []\n",
    "        with open(labels_filepath, 'rb') as file:\n",
    "            magic, size = struct.unpack(\">II\", file.read(8))\n",
    "            if magic != 2049:\n",
    "                raise ValueError('Magic number mismatch, expected 2049, got {}'.format(magic))\n",
    "            labels = array(\"B\", file.read())        \n",
    "\n",
    "        with open(images_filepath, 'rb') as file:\n",
    "            magic, size, rows, cols = struct.unpack(\">IIII\", file.read(16))\n",
    "            if magic != 2051:\n",
    "                raise ValueError('Magic number mismatch, expected 2051, got {}'.format(magic))\n",
    "            image_data = array(\"B\", file.read())        \n",
    "        images = []\n",
    "        for i in range(size):\n",
    "            images.append([0] * rows * cols)\n",
    "        for i in range(size):\n",
    "            img = np.array(image_data[i * rows * cols:(i + 1) * rows * cols])\n",
    "            img = img.reshape(28, 28)\n",
    "            images[i][:] = img            \n",
    "\n",
    "        return images, labels\n",
    "    \n",
    "    def load_data(self):\n",
    "        x_train, y_train = self.read_images_labels(self.training_images_filepath, self.training_labels_filepath)\n",
    "        x_test, y_test = self.read_images_labels(self.test_images_filepath, self.test_labels_filepath)\n",
    "        return (np.stack(x_train), np.stack(y_train)),(np.stack(x_test), np.stack(y_test))    \n",
    "        "
   ]
  },
  {
   "cell_type": "code",
   "execution_count": null,
   "id": "a219b905",
   "metadata": {},
   "outputs": [],
   "source": [
    "dataPath = '/Users/parassamsukha/Documents/Courses/fastAI/Data/MNIST/'\n",
    "dataPath = '../Data/MNIST/'\n",
    "training_labels_filepath = dataPath + 'train-labels.idx1-ubyte'\n",
    "training_images_filepath = dataPath + 'train-images.idx3-ubyte'\n",
    "test_labels_filepath = dataPath + 't10k-labels.idx1-ubyte'\n",
    "test_images_filepath =  dataPath + 't10k-images.idx3-ubyte'\n",
    "mnistData = MNISTloader(training_images_filepath,training_labels_filepath,test_images_filepath,test_labels_filepath)\n",
    "(x_train, y_train), (x_test, y_test) = mnistData.load_data()"
   ]
  },
  {
   "cell_type": "code",
   "execution_count": null,
   "id": "e7768ac0",
   "metadata": {},
   "outputs": [],
   "source": [
    "# Create list of files which will be sown at Random\n",
    "import random\n",
    "images_2_show = []\n",
    "titles_2_show = []\n",
    "for i in range(0, 10):\n",
    "    r = random.randint(1, 60000)\n",
    "    images_2_show.append(x_train[r])\n",
    "    titles_2_show.append('training image [' + str(r) + '] = ' + str(y_train[r])) \n",
    "for i in range(0, 5):\n",
    "    r = random.randint(1, 10000)\n",
    "    images_2_show.append(x_test[r])        \n",
    "    titles_2_show.append('test image [' + str(r) + '] = ' + str(y_test[r])) \n",
    "    \n",
    "    \n",
    "#\n",
    "# Helper function to show a list of images with their relating titles\n",
    "#\n",
    "import matplotlib.pyplot as plt\n",
    "def show_images(images, title_texts):\n",
    "    cols = 5\n",
    "    rows = int(len(images)/cols) + 1\n",
    "    plt.figure(figsize=(30,20))\n",
    "    index = 1    \n",
    "    for x in zip(images, title_texts):        \n",
    "        image = x[0]        \n",
    "        title_text = x[1]\n",
    "        plt.subplot(rows, cols, index)        \n",
    "        plt.imshow(image, cmap=plt.cm.gray)\n",
    "        if (title_text != ''):\n",
    "            plt.title(title_text, fontsize = 15);        \n",
    "        index += 1\n",
    "show_images(images_2_show,titles_2_show)"
   ]
  },
  {
   "cell_type": "markdown",
   "id": "aa223c35",
   "metadata": {},
   "source": [
    "### Use the Dataloader class in pytorch to load the data. \n",
    "Covert array to tensor. It is then packaged by the dataset loader. And then use  dataloader - \n",
    "this helps with batching the data and shuffle automaticaly while training"
   ]
  },
  {
   "cell_type": "code",
   "execution_count": null,
   "id": "f5fcf89e",
   "metadata": {},
   "outputs": [],
   "source": [
    "# Load the data \n",
    "train_dataset1,test_dataset1  = mnistData.load_data()\n",
    "\n",
    "train_dataset = torch.utils.data.TensorDataset(torch.tensor(train_dataset1[0], dtype=torch.float32), torch.tensor(train_dataset1[1], dtype=torch.long))\n",
    "test_dataset = torch.utils.data.TensorDataset(torch.tensor(test_dataset1[0], dtype=torch.float32), torch.tensor(test_dataset1[1], dtype=torch.long))\n",
    "\n",
    "\n",
    "\n",
    "batch_size = 512\n",
    "train_loader = torch.utils.data.DataLoader(\n",
    "    dataset=train_dataset, \n",
    "    batch_size=batch_size, \n",
    "    shuffle=True\n",
    ")\n",
    "\n",
    "test_loader = torch.utils.data.DataLoader(\n",
    "    dataset=test_dataset, \n",
    "    batch_size=batch_size, \n",
    "    shuffle=False\n",
    ")\n"
   ]
  },
  {
   "cell_type": "markdown",
   "id": "0b7fac2f",
   "metadata": {},
   "source": [
    "### Create fully connected neural network. \n",
    "\n",
    "\n",
    "\n",
    "First layer falttend 28*28 (784) pixels to a flattened image of 512 \n",
    "\n",
    "Second layer is the hidden layer 512 to 512\n",
    "\n",
    "Last layer is the output layer with 10 output ( As there are 10 target values ) \n",
    "\n",
    "The first step in forward path is to flatten the array and then apply activation function for each layer. And no activation function for last layer. \n",
    "\n",
    "***************\n",
    "model = Net()\n",
    "output = model(data)\n",
    "\n",
    "Even thoug Net class does not take any input when model ( of Net Class ) is called as an function. It requires data as input. \n",
    "\n",
    "The Net class inherits pytorch nn.Module class. It has __call__ method which is invoked when Net class is called as a function. In this call the data is assigned to x. \n",
    "\n",
    "\n",
    "\n"
   ]
  },
  {
   "cell_type": "code",
   "execution_count": null,
   "id": "afd9d33c",
   "metadata": {},
   "outputs": [],
   "source": [
    "class Net(nn.Module):\n",
    "    def __init__(self):\n",
    "        super(Net, self).__init__()\n",
    "        self.fc1 = nn.Linear(28*28, 512)  # Input layer (flattened image) to hidden layer\n",
    "        self.fc2 = nn.Linear(512, 512)   # Hidden layer to another hidden layer\n",
    "        self.fc3 = nn.Linear(512, 10)    # Hidden layer to output layer (9 classes)\n",
    "\n",
    "    def forward(self, x):\n",
    "        x = torch.flatten(x, 1)  # Flatten the 2D image to 1D\n",
    "        x = F.relu(self.fc1(x))  # Apply ReLU activation\n",
    "        x = F.relu(self.fc2(x))  # Apply ReLU activation\n",
    "        x = self.fc3(x)          # No activation on the output (for cross-entropy loss)\n",
    "        return x\n",
    "\n",
    "model = Net()  # Move the model to the GPU if available\n"
   ]
  },
  {
   "cell_type": "markdown",
   "id": "d1a1dd45",
   "metadata": {},
   "source": [
    "## Define the optimizer and loss function \n",
    "CrossEntropyLoss is used for multi-class classification"
   ]
  },
  {
   "cell_type": "code",
   "execution_count": null,
   "id": "8f4edb63",
   "metadata": {},
   "outputs": [],
   "source": [
    "lr = 0.001\n",
    "optimizer = optim.Adam(model.parameters(), lr=lr)  # Use Adam optimizer\n",
    "criterion = nn.CrossEntropyLoss()  #\n"
   ]
  },
  {
   "cell_type": "markdown",
   "id": "c257d9b3",
   "metadata": {},
   "source": [
    "### Training \n",
    "A batch is a subset of data used to calculate loss and update the gradient.\n",
    "\n",
    "A run though the whole samples ( in this case 60,000 so total of 938 batches - for batch size = 64 ) makes it one epoch. Hence one epoch is running though the whole training set. The order of the samples in a batch in new epoch are not the same - hence letting the model train of different combinatin of sample. The Dataloader used above helps in making sure that this accounted for ( using Shuffling at the start of epoch )."
   ]
  },
  {
   "cell_type": "code",
   "execution_count": null,
   "id": "bb3dc9d7",
   "metadata": {},
   "outputs": [],
   "source": [
    "#Training \n",
    "num_epochs = 200\n",
    "loss_history_epoch = []  #Used to store median loss of each epoch\n",
    "device = torch.device(\"cuda\" if torch.cuda.is_available() else \"cpu\") \n",
    "print(f\"Using device: {device}\")\n",
    "\n",
    "for epoch in range(num_epochs):\n",
    "    loss_history = []\n",
    "    for batch_idx, (data, target) in enumerate(train_loader):\n",
    "        data, target = data.to(device), target.to(device)  # Move data to GPU\n",
    "#         print(batch_idx,epoch,len(target))\n",
    "        optimizer.zero_grad()   # Zero the gradients\n",
    "        output = model(data)    # Forward pass\n",
    "        loss = criterion(output, target)  # Calculate loss\n",
    "        loss.backward()         # Backpropagate\n",
    "        optimizer.step()        # Update weights\n",
    "        loss_history.append(loss.item())\n",
    "#         if batch_idx % 1000 == 0:\n",
    "#             print(f\"Epoch: {epoch+1}/{num_epochs}, Batch: {batch_idx}/{len(train_loader)}, Loss: {loss.item():.4f}\")\n",
    "    print(f\"Epoch: {epoch+1}/{num_epochs},Target: {target[0:4]}, loss: {np.mean(loss_history[-938:])}\")\n",
    "    loss_history_epoch.append(np.median(loss_history))\n",
    "    loss_history = []\n",
    "    "
   ]
  },
  {
   "cell_type": "markdown",
   "id": "7c8f244e",
   "metadata": {},
   "source": [
    "### Plots to see loss as a function of learning rate  and Batch Size"
   ]
  },
  {
   "cell_type": "code",
   "execution_count": null,
   "id": "b82e3426",
   "metadata": {
    "scrolled": false
   },
   "outputs": [],
   "source": [
    "script_dir = os.getcwd()\n",
    "plotDir = os.path.join(script_dir , 'plots_MNIST')\n",
    "plt.rcParams.update({'font.size': 18})\n",
    "batch_size = train_loader.batch_size\n",
    "lr = optimizer.param_groups[0]['lr']\n",
    "print(f\"Current learning rate: {lr}\")\n",
    "\n",
    "fig, ax = plt.subplots(figsize=(10, 6))\n",
    "plt.plot(loss_history_epoch)\n",
    "ax.set_xlabel(\"Epoch Number\", fontsize=18)  # X-axis title and font size\n",
    "ax.set_ylabel(\"Loss (Cross Entropy)\", fontsize=18)  # Y-axis title and font size\n",
    "ax.set_title(f\"Batch Size = {batch_size}, LR = {lr}\", fontsize=18)  # Title with parameters\n",
    "\n",
    "\n",
    "filename = f\"loss_plot_BaSz_{batch_size}_lr_{lr}.png\"\n",
    "fig.savefig(os.path.join(plotDir,filename),bbox_inches=\"tight\")\n"
   ]
  },
  {
   "cell_type": "markdown",
   "id": "6b6ce637",
   "metadata": {},
   "source": [
    "## Observation:  As the batch size increases the loss decreases faster and may need less epoch to train. But the processing time of each epoch increases as the batch size increase. \n",
    "\n",
    "### Effect of Batch Size (BaSz), Learning rate =  0.001\n",
    "\n",
    "\n",
    "\n",
    "#### BaSz = 64 ![Loss Plot LR 0.001](plots_MNIST/loss_plot_BaSz_64_lr_0.001.png)\n",
    "\n",
    "#### BaSz = 128 ![Loss Plot LR 0.001](plots_MNIST/loss_plot_BaSz_128_lr_0.001.png)\n",
    "\n",
    "#### BaSz = 256 ![Loss Plot LR 0.001](plots_MNIST/loss_plot_BaSz_256_lr_0.001.png)\n",
    "\n",
    "#### BaSz = 512 ![Loss Plot LR 0.001](plots_MNIST/loss_plot_BaSz_512_lr_0.001.png)"
   ]
  },
  {
   "cell_type": "markdown",
   "id": "135d24af",
   "metadata": {},
   "source": [
    "## Observation: At higher learning rate (0.01 ) the model has hard time converging , at higher lr the model convergeces slowly and does not get to low error even at epoch 200. lr = 0.001 seems to be a good lr for this model\n",
    "### Effect of learning rate (LR) , Batch Size = 64\n",
    "\n",
    "#### LR = 0.01 ![Loss Plot LR 0.001](plots_MNIST/loss_plot_BaSz_64_lr_0.01.png)\n",
    "\n",
    "#### LR = 0.001 ![Loss Plot LR 0.001](plots_MNIST/loss_plot_BaSz_64_lr_0.001.png)\n",
    "\n",
    "#### LR = 0.0001 ![Loss Plot LR 0.001](plots_MNIST/loss_plot_BaSz_64_lr_0.0001.png)"
   ]
  },
  {
   "cell_type": "markdown",
   "id": "45ae9e7a",
   "metadata": {},
   "source": [
    "## Evaluate the performanc of model on test set \n",
    "Since the gradient are not required during inference they are turned off to save memory"
   ]
  },
  {
   "cell_type": "code",
   "execution_count": null,
   "id": "6258522b",
   "metadata": {},
   "outputs": [],
   "source": [
    "#Evaluate\n",
    "def test():\n",
    "    correct = 0\n",
    "    total = 0\n",
    "    with torch.no_grad():  # No need to calculate gradients during evaluation\n",
    "        for data, target in test_loader:\n",
    "            data, target = data.to(device), target.to(device)\n",
    "            output = model(data)\n",
    "            _, predicted = torch.max(output.data, 1)  # Get predicted class\n",
    "            total += target.size(0)\n",
    "            correct += (predicted == target).sum().item()\n",
    "\n",
    "    print(f\"Accuracy on test set: {100 * correct / total:.2f}%\")\n",
    "\n",
    "test()"
   ]
  }
 ],
 "metadata": {
  "kernelspec": {
   "display_name": "Python 3 (ipykernel)",
   "language": "python",
   "name": "python3"
  },
  "language_info": {
   "codemirror_mode": {
    "name": "ipython",
    "version": 3
   },
   "file_extension": ".py",
   "mimetype": "text/x-python",
   "name": "python",
   "nbconvert_exporter": "python",
   "pygments_lexer": "ipython3",
   "version": "3.11.4"
  }
 },
 "nbformat": 4,
 "nbformat_minor": 5
}
